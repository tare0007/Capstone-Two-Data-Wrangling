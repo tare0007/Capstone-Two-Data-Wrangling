{
 "cells": [
  {
   "cell_type": "markdown",
   "metadata": {},
   "source": [
    "### Capstone Two Project: Analysis and Prediction of Length of Stay (LOS) in Hospital\n",
    "\n",
    "The Covid-19 Pandemic raised up challenges in healthcare and hospital management due to increase in hospitalization and length of stays (LOS) in hospitals. The data from patient length of stay is one critical parameter to observe and predict if one wants to improve the efficiency of the healthcare management in a hospital.  In this project, the dataset retrieved from Kaggle's public datasets, is used to perform a detailed exploratory data analysis (EDA) to make better sense of the data. The EDA process will help us to find patterns, relationships, or anomalies to inform our subsequent analysis. There are various ways to perform EDA, and we will explore some of them using various python libraries.\n",
    "The hospital stays and its correlation with the type of patient will be used to extract/find useful relationships that can be used to identify patients of high LOS risk (patients who will stay longer) at the time of admission. Once identified, patients with high LOS risk can have their treatment plan optimized to minimize LOS and lower the chance of staff/visitor infection. Also, prior knowledge of LOS can aid in logistics such as room and bed allocation planning."
   ]
  },
  {
   "cell_type": "code",
   "execution_count": 3,
   "metadata": {},
   "outputs": [],
   "source": [
    "import os\n",
    "import pandas as pd"
   ]
  },
  {
   "cell_type": "code",
   "execution_count": 4,
   "metadata": {},
   "outputs": [
    {
     "name": "stdout",
     "output_type": "stream",
     "text": [
      "        case_id  Hospital_code Hospital_type_code  City_Code_Hospital  \\\n",
      "0             1              8                  c                   3   \n",
      "1             2              2                  c                   5   \n",
      "2             3             10                  e                   1   \n",
      "3             4             26                  b                   2   \n",
      "4             5             26                  b                   2   \n",
      "...         ...            ...                ...                 ...   \n",
      "318433   318434              6                  a                   6   \n",
      "318434   318435             24                  a                   1   \n",
      "318435   318436              7                  a                   4   \n",
      "318436   318437             11                  b                   2   \n",
      "318437   318438             19                  a                   7   \n",
      "\n",
      "       Hospital_region_code  Available Extra Rooms in Hospital    Department  \\\n",
      "0                         Z                                  3  radiotherapy   \n",
      "1                         Z                                  2  radiotherapy   \n",
      "2                         X                                  2    anesthesia   \n",
      "3                         Y                                  2  radiotherapy   \n",
      "4                         Y                                  2  radiotherapy   \n",
      "...                     ...                                ...           ...   \n",
      "318433                    X                                  3  radiotherapy   \n",
      "318434                    X                                  2    anesthesia   \n",
      "318435                    X                                  3    gynecology   \n",
      "318436                    Y                                  3    anesthesia   \n",
      "318437                    Y                                  5    gynecology   \n",
      "\n",
      "       Ward_Type Ward_Facility_Code  Bed Grade  patientid  City_Code_Patient  \\\n",
      "0              R                  F        2.0      31397                7.0   \n",
      "1              S                  F        2.0      31397                7.0   \n",
      "2              S                  E        2.0      31397                7.0   \n",
      "3              R                  D        2.0      31397                7.0   \n",
      "4              S                  D        2.0      31397                7.0   \n",
      "...          ...                ...        ...        ...                ...   \n",
      "318433         Q                  F        4.0      86499               23.0   \n",
      "318434         Q                  E        4.0        325                8.0   \n",
      "318435         R                  F        4.0     125235               10.0   \n",
      "318436         Q                  D        3.0      91081                8.0   \n",
      "318437         Q                  C        2.0      21641                8.0   \n",
      "\n",
      "       Type of Admission Severity of Illness  Visitors with Patient    Age  \\\n",
      "0              Emergency             Extreme                      2  51-60   \n",
      "1                 Trauma             Extreme                      2  51-60   \n",
      "2                 Trauma             Extreme                      2  51-60   \n",
      "3                 Trauma             Extreme                      2  51-60   \n",
      "4                 Trauma             Extreme                      2  51-60   \n",
      "...                  ...                 ...                    ...    ...   \n",
      "318433         Emergency            Moderate                      3  41-50   \n",
      "318434            Urgent            Moderate                      4  81-90   \n",
      "318435         Emergency               Minor                      3  71-80   \n",
      "318436            Trauma               Minor                      5  11-20   \n",
      "318437         Emergency               Minor                      2  11-20   \n",
      "\n",
      "        Admission_Deposit   Stay  \n",
      "0                  4911.0   0-10  \n",
      "1                  5954.0  41-50  \n",
      "2                  4745.0  31-40  \n",
      "3                  7272.0  41-50  \n",
      "4                  5558.0  41-50  \n",
      "...                   ...    ...  \n",
      "318433             4144.0  11-20  \n",
      "318434             6699.0  31-40  \n",
      "318435             4235.0  11-20  \n",
      "318436             3761.0  11-20  \n",
      "318437             4752.0   0-10  \n",
      "\n",
      "[318438 rows x 18 columns]\n"
     ]
    }
   ],
   "source": [
    "df= pd.read_csv('train_data.csv')\n",
    "print(df)"
   ]
  },
  {
   "cell_type": "code",
   "execution_count": 27,
   "metadata": {},
   "outputs": [
    {
     "name": "stdout",
     "output_type": "stream",
     "text": [
      "Department          Stay              \n",
      "TB & Chest disease  21-30                  2618\n",
      "                    11-20                  2379\n",
      "                    31-40                  1753\n",
      "                    51-60                  1047\n",
      "                    0-10                    791\n",
      "                    41-50                   300\n",
      "                    71-80                   294\n",
      "                    81-90                   140\n",
      "                    More than 100 Days      124\n",
      "                    61-70                    76\n",
      "                    91-100                   64\n",
      "anesthesia          21-30                  8950\n",
      "                    11-20                  8823\n",
      "                    31-40                  4958\n",
      "                    51-60                  2527\n",
      "                    0-10                   1519\n",
      "                    41-50                   851\n",
      "                    71-80                   703\n",
      "                    More than 100 Days      605\n",
      "                    81-90                   384\n",
      "                    61-70                   173\n",
      "                    91-100                  156\n",
      "gynecology          21-30                 68383\n",
      "                    11-20                 59690\n",
      "                    31-40                 43535\n",
      "                    51-60                 27989\n",
      "                    0-10                  18849\n",
      "                    41-50                  9671\n",
      "                    71-80                  8165\n",
      "                    More than 100 Days     4961\n",
      "                    81-90                  3748\n",
      "                    91-100                 2269\n",
      "                    61-70                  2226\n",
      "radiotherapy        21-30                  7263\n",
      "                    11-20                  6988\n",
      "                    31-40                  4713\n",
      "                    51-60                  3256\n",
      "                    0-10                   2379\n",
      "                    71-80                  1043\n",
      "                    More than 100 Days      947\n",
      "                    41-50                   879\n",
      "                    81-90                   528\n",
      "                    61-70                   264\n",
      "                    91-100                  256\n",
      "surgery             21-30                   277\n",
      "                    11-20                   259\n",
      "                    31-40                   200\n",
      "                    51-60                   199\n",
      "                    0-10                     66\n",
      "                    71-80                    49\n",
      "                    More than 100 Days       46\n",
      "                    41-50                    42\n",
      "                    81-90                    38\n",
      "                    91-100                   20\n",
      "                    61-70                     5\n",
      "Name: Stay, dtype: int64\n"
     ]
    }
   ],
   "source": [
    "df2_group = df.groupby(['Department'])\n",
    "\n",
    "# grouped on the basis of Department and with the value of count of Stay\n",
    "df2_grouped = df2_group['Stay'].value_counts()\n",
    "  \n",
    "# display dataset\n",
    "print(df2_grouped)"
   ]
  },
  {
   "cell_type": "code",
   "execution_count": 29,
   "metadata": {
    "scrolled": true
   },
   "outputs": [
    {
     "name": "stdout",
     "output_type": "stream",
     "text": [
      "Hospital_type_code  Stay              \n",
      "a                   21-30                 40286\n",
      "                    11-20                 39807\n",
      "                    31-40                 23974\n",
      "                    51-60                 14617\n",
      "                    0-10                  10559\n",
      "                                          ...  \n",
      "g                   41-50                   139\n",
      "                    81-90                   127\n",
      "                    More than 100 Days      102\n",
      "                    61-70                    46\n",
      "                    91-100                   45\n",
      "Name: Stay, Length: 77, dtype: int64\n"
     ]
    }
   ],
   "source": [
    "df2_group = df.groupby(['Hospital_type_code'])\n",
    "\n",
    "# grouped on the basis of Hospital_type_code and with the value of count of Stay\n",
    "df2_grouped = df2_group['Stay'].value_counts()\n",
    "  \n",
    "# display dataset\n",
    "print(df2_grouped)"
   ]
  },
  {
   "cell_type": "code",
   "execution_count": 30,
   "metadata": {},
   "outputs": [
    {
     "name": "stdout",
     "output_type": "stream",
     "text": [
      "Type of Admission  Stay              \n",
      "Emergency          11-20                 31559\n",
      "                   21-30                 27399\n",
      "                   31-40                 18921\n",
      "                   0-10                  14218\n",
      "                   51-60                 11885\n",
      "                   41-50                  4145\n",
      "                   71-80                  3375\n",
      "                   More than 100 Days     2555\n",
      "                   81-90                  1708\n",
      "                   61-70                   976\n",
      "                   91-100                  935\n",
      "Trauma             21-30                 46244\n",
      "                   11-20                 33745\n",
      "                   31-40                 28107\n",
      "                   51-60                 18310\n",
      "                   41-50                  5968\n",
      "                   71-80                  5551\n",
      "                   0-10                   5328\n",
      "                   More than 100 Days     3463\n",
      "                   81-90                  2548\n",
      "                   91-100                 1518\n",
      "                   61-70                  1479\n",
      "Urgent             21-30                 13848\n",
      "                   11-20                 12835\n",
      "                   31-40                  8131\n",
      "                   51-60                  4823\n",
      "                   0-10                   4058\n",
      "                   41-50                  1630\n",
      "                   71-80                  1328\n",
      "                   More than 100 Days      665\n",
      "                   81-90                   582\n",
      "                   91-100                  312\n",
      "                   61-70                   289\n",
      "Name: Stay, dtype: int64\n"
     ]
    }
   ],
   "source": [
    "df3_group = df.groupby(['Type of Admission'])\n",
    "\n",
    "# grouped on the basis of Type of Admission and with the value of count of Stay\n",
    "df3_grouped = df3_group['Stay'].value_counts()\n",
    "  \n",
    "# display dataset\n",
    "print(df3_grouped)"
   ]
  },
  {
   "cell_type": "code",
   "execution_count": 20,
   "metadata": {},
   "outputs": [
    {
     "name": "stdout",
     "output_type": "stream",
     "text": [
      "smoker\n",
      "no      8434.268298\n",
      "yes    32050.231832\n",
      "Name: charges, dtype: float64\n"
     ]
    }
   ],
   "source": [
    "df4_group = df.groupby(['Severity of Illness'])\n",
    "\n",
    "# grouped on the basis of Severity of Illness and with the value of count of Stay\n",
    "df4_grouped = df4_group['Stay'].value_counts()\n",
    "  \n",
    "# display dataset\n",
    "print(df4_grouped)"
   ]
  },
  {
   "cell_type": "code",
   "execution_count": 31,
   "metadata": {},
   "outputs": [
    {
     "name": "stdout",
     "output_type": "stream",
     "text": [
      "Severity of Illness  Stay              \n",
      "Extreme              21-30                 15502\n",
      "                     11-20                 10518\n",
      "                     31-40                 10086\n",
      "                     51-60                  7777\n",
      "                     0-10                   3399\n",
      "                     71-80                  2575\n",
      "                     41-50                  2351\n",
      "                     More than 100 Days     1950\n",
      "                     81-90                  1113\n",
      "                     91-100                  805\n",
      "                     61-70                   647\n",
      "Minor                11-20                 27081\n",
      "                     21-30                 21535\n",
      "                     31-40                 14447\n",
      "                     0-10                   7866\n",
      "                     51-60                  7128\n",
      "                     41-50                  3000\n",
      "                     71-80                  1928\n",
      "                     81-90                   985\n",
      "                     More than 100 Days      958\n",
      "                     61-70                   519\n",
      "                     91-100                  425\n",
      "Moderate             21-30                 50454\n",
      "                     11-20                 40540\n",
      "                     31-40                 30626\n",
      "                     51-60                 20113\n",
      "                     0-10                  12339\n",
      "                     41-50                  6392\n",
      "                     71-80                  5751\n",
      "                     More than 100 Days     3775\n",
      "                     81-90                  2740\n",
      "                     61-70                  1578\n",
      "                     91-100                 1535\n",
      "Name: Stay, dtype: int64\n"
     ]
    }
   ],
   "source": [
    "df5_group = df.groupby(['Severity of Illness'])\n",
    "\n",
    "# grouped on the basis of Severity of Illness and with the value of count of Stay\n",
    "df5_grouped = df5_group['Stay'].value_counts()\n",
    "\n",
    "# display dataset\n",
    "print(df5_grouped)"
   ]
  },
  {
   "cell_type": "code",
   "execution_count": 32,
   "metadata": {},
   "outputs": [
    {
     "name": "stdout",
     "output_type": "stream",
     "text": [
      "Age     Stay              \n",
      "0-10    11-20                 1959\n",
      "        21-30                 1489\n",
      "        31-40                 1014\n",
      "        0-10                   615\n",
      "        51-60                  582\n",
      "                              ... \n",
      "91-100  71-80                   63\n",
      "        More than 100 Days      63\n",
      "        61-70                   29\n",
      "        81-90                   29\n",
      "        91-100                  19\n",
      "Name: Stay, Length: 110, dtype: int64\n"
     ]
    }
   ],
   "source": [
    "df6_group = df.groupby(['Age'])\n",
    "\n",
    "# grouped on the basis of Age and with the value of count of Stay\n",
    "df6_grouped = df6_group['Stay'].value_counts()\n",
    "\n",
    "# display dataset\n",
    "print(df6_grouped)"
   ]
  }
 ],
 "metadata": {
  "kernelspec": {
   "display_name": "Python 3",
   "language": "python",
   "name": "python3"
  },
  "language_info": {
   "codemirror_mode": {
    "name": "ipython",
    "version": 3
   },
   "file_extension": ".py",
   "mimetype": "text/x-python",
   "name": "python",
   "nbconvert_exporter": "python",
   "pygments_lexer": "ipython3",
   "version": "3.8.5"
  }
 },
 "nbformat": 4,
 "nbformat_minor": 4
}
